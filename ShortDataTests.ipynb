{
 "cells": [
  {
   "cell_type": "code",
   "execution_count": 1,
   "metadata": {},
   "outputs": [],
   "source": [
    "import numpy as np\n",
    "import matplotlib.pyplot as plt\n",
    "import pandas as pd\n",
    "import csv, os, fnmatch, sys\n",
    "import matplotlib.gridspec as gridspec\n",
    "from mpl_toolkits.axes_grid1.inset_locator import inset_axes\n",
    "\n",
    "CurrentWD = os.getcwd()\n",
    "#obtain the current directory path for us so we don't have to manually find it\n",
    "TestData = CurrentWD + \"\\Data\\shortData\"\n",
    "SavePath = CurrentWD + \"/OutFlow/LongTestFiles\"\n",
    "\n",
    "def HistoFromFiles(folder,SaveName):\n",
    "    FullEngRun = []\n",
    "    needToTestFiles = [ f for f in os.listdir(TestData + \"\\{val}\".format(val = folder)) if \".dsc\" not in f ]\n",
    "    for files in needToTestFiles :\n",
    "        EnergyArray = []\n",
    "        EnergyArray = np.loadtxt(TestData + \"\\{fold}\\{val}\".format(fold = folder, val = files), delimiter=\" \", dtype=float)#,\n",
    "        FullEngRun.append(EnergyArray)\n",
    "\n",
    "    FullEngRunHist = np.concatenate(FullEngRun,0).flatten()\n",
    "    plt.figure(figsize=(8, 5.5), dpi=100,facecolor='yellow')\n",
    "    plt.hist(x = FullEngRunHist,bins = np.arange(5,100))\n",
    "    plt.xlabel(\"Energy of particle [keV]\")\n",
    "    plt.ylabel('Counts')\n",
    "    plt.savefig(SavePath + \"/{Name}.png\".format(Name = SaveName),dpi = 300)\n",
    "\n"
   ]
  },
  {
   "cell_type": "code",
   "execution_count": 4,
   "metadata": {},
   "outputs": [
    {
     "name": "stdout",
     "output_type": "stream",
     "text": [
      "First.png already exists, check the folder\n",
      "LongTest1.png already exists, check the folder\n",
      "LongTest2.png already exists, check the folder\n",
      "LongTest3.png already exists, check the folder\n",
      "LongTest4.png already exists, check the folder\n",
      "LongTest5.png already exists, check the folder\n"
     ]
    }
   ],
   "source": [
    "for folders in next(os.walk(TestData))[1]:\n",
    "    if os.path.exists(SavePath + \"/{Name}.png\".format(Name = folders)):\n",
    "        print(\"{Name}.png already exists, check the folder\".format(Name = folders))\n",
    "        pass\n",
    "    else:\n",
    "        HistoFromFiles(folders, folders)"
   ]
  }
 ],
 "metadata": {
  "kernelspec": {
   "display_name": "Python 3.9.7 ('base')",
   "language": "python",
   "name": "python3"
  },
  "language_info": {
   "codemirror_mode": {
    "name": "ipython",
    "version": 3
   },
   "file_extension": ".py",
   "mimetype": "text/x-python",
   "name": "python",
   "nbconvert_exporter": "python",
   "pygments_lexer": "ipython3",
   "version": "3.9.7"
  },
  "orig_nbformat": 4,
  "vscode": {
   "interpreter": {
    "hash": "85c3c1050d8c0e89e1f52ef71435e1a560694cb779e6081cdd442bb6f5e4610a"
   }
  }
 },
 "nbformat": 4,
 "nbformat_minor": 2
}
